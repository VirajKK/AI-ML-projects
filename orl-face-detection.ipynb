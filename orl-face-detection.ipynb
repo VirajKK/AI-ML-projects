{
 "cells": [
  {
   "cell_type": "code",
   "execution_count": 1,
   "id": "704bc214",
   "metadata": {
    "_cell_guid": "b1076dfc-b9ad-4769-8c92-a6c4dae69d19",
    "_uuid": "8f2839f25d086af736a60e9eeb907d3b93b6e0e5",
    "execution": {
     "iopub.execute_input": "2022-10-17T06:57:22.928803Z",
     "iopub.status.busy": "2022-10-17T06:57:22.928077Z",
     "iopub.status.idle": "2022-10-17T06:57:22.946020Z",
     "shell.execute_reply": "2022-10-17T06:57:22.945058Z"
    },
    "papermill": {
     "duration": 0.025537,
     "end_time": "2022-10-17T06:57:22.948493",
     "exception": false,
     "start_time": "2022-10-17T06:57:22.922956",
     "status": "completed"
    },
    "tags": []
   },
   "outputs": [
    {
     "name": "stdout",
     "output_type": "stream",
     "text": [
      "/kaggle/input/orl-faces/ORL_faces.npz\n"
     ]
    }
   ],
   "source": [
    "# This Python 3 environment comes with many helpful analytics libraries installed\n",
    "# It is defined by the kaggle/python Docker image: https://github.com/kaggle/docker-python\n",
    "# For example, here's several helpful packages to load\n",
    "\n",
    "import numpy as np # linear algebra\n",
    "import pandas as pd # data processing, CSV file I/O (e.g. pd.read_csv)\n",
    "\n",
    "# Input data files are available in the read-only \"../input/\" directory\n",
    "# For example, running this (by clicking run or pressing Shift+Enter) will list all files under the input directory\n",
    "\n",
    "import os\n",
    "for dirname, _, filenames in os.walk('/kaggle/input'):\n",
    "    for filename in filenames:\n",
    "        print(os.path.join(dirname, filename))\n",
    "\n",
    "# You can write up to 20GB to the current directory (/kaggle/working/) that gets preserved as output when you create a version using \"Save & Run All\" \n",
    "# You can also write temporary files to /kaggle/temp/, but they won't be saved outside of the current session"
   ]
  },
  {
   "cell_type": "code",
   "execution_count": 2,
   "id": "1adead3b",
   "metadata": {
    "execution": {
     "iopub.execute_input": "2022-10-17T06:57:22.955764Z",
     "iopub.status.busy": "2022-10-17T06:57:22.955407Z",
     "iopub.status.idle": "2022-10-17T06:57:30.452645Z",
     "shell.execute_reply": "2022-10-17T06:57:30.451319Z"
    },
    "papermill": {
     "duration": 7.503717,
     "end_time": "2022-10-17T06:57:30.455143",
     "exception": false,
     "start_time": "2022-10-17T06:57:22.951426",
     "status": "completed"
    },
    "tags": []
   },
   "outputs": [],
   "source": [
    "import keras\n",
    "from keras.models import Sequential\n",
    "from keras.layers import Conv2D, MaxPooling2D, Dense, Flatten, Dropout\n",
    "from keras.callbacks import TensorBoard\n",
    "\n",
    "import numpy as np\n",
    "import pandas as pd\n",
    "import matplotlib.pyplot as plt\n",
    "from sklearn.model_selection import train_test_split\n",
    "\n",
    "from sklearn.metrics import confusion_matrix\n",
    "from sklearn.metrics import classification_report\n",
    "from sklearn.metrics import roc_curve, auc\n",
    "from sklearn.metrics import accuracy_score\n",
    "from keras.utils import np_utils\n",
    "import itertools"
   ]
  },
  {
   "cell_type": "code",
   "execution_count": 3,
   "id": "3fc3d631",
   "metadata": {
    "execution": {
     "iopub.execute_input": "2022-10-17T06:57:30.462363Z",
     "iopub.status.busy": "2022-10-17T06:57:30.461743Z",
     "iopub.status.idle": "2022-10-17T06:57:30.743431Z",
     "shell.execute_reply": "2022-10-17T06:57:30.742335Z"
    },
    "papermill": {
     "duration": 0.287968,
     "end_time": "2022-10-17T06:57:30.745874",
     "exception": false,
     "start_time": "2022-10-17T06:57:30.457906",
     "status": "completed"
    },
    "tags": []
   },
   "outputs": [],
   "source": [
    "data = np.load('../input/orl-faces/ORL_faces.npz')\n",
    "\n",
    "x_train = data['trainX']\n",
    "y_train = data['trainY']\n",
    "x_test = data['testX']\n",
    "y_test = data['testY']"
   ]
  },
  {
   "cell_type": "code",
   "execution_count": 4,
   "id": "08322208",
   "metadata": {
    "execution": {
     "iopub.execute_input": "2022-10-17T06:57:30.752995Z",
     "iopub.status.busy": "2022-10-17T06:57:30.752655Z",
     "iopub.status.idle": "2022-10-17T06:57:30.778068Z",
     "shell.execute_reply": "2022-10-17T06:57:30.776783Z"
    },
    "papermill": {
     "duration": 0.031855,
     "end_time": "2022-10-17T06:57:30.780594",
     "exception": false,
     "start_time": "2022-10-17T06:57:30.748739",
     "status": "completed"
    },
    "tags": []
   },
   "outputs": [],
   "source": [
    "from sklearn.model_selection import train_test_split\n",
    "x_train, x_val, y_train, y_val= train_test_split(x_train, y_train, test_size=0.20, random_state=25,)\n",
    "\n",
    "x_train = np.array(x_train,dtype='float32')/255\n",
    "x_val = np.array(x_val,dtype='float32')/255\n",
    "x_test = np.array(x_test,dtype='float32')/255\n",
    "\n",
    "x_train = x_train.reshape(x_train.shape[0], 112, 92, 1)\n",
    "x_val = x_val.reshape(x_val.shape[0], 112, 92, 1)\n",
    "x_test = x_test.reshape(x_test.shape[0], 112, 92, 1)"
   ]
  },
  {
   "cell_type": "code",
   "execution_count": 5,
   "id": "f05e958f",
   "metadata": {
    "execution": {
     "iopub.execute_input": "2022-10-17T06:57:30.787932Z",
     "iopub.status.busy": "2022-10-17T06:57:30.787511Z",
     "iopub.status.idle": "2022-10-17T06:57:31.235103Z",
     "shell.execute_reply": "2022-10-17T06:57:31.233552Z"
    },
    "papermill": {
     "duration": 0.454504,
     "end_time": "2022-10-17T06:57:31.237940",
     "exception": false,
     "start_time": "2022-10-17T06:57:30.783436",
     "status": "completed"
    },
    "tags": []
   },
   "outputs": [
    {
     "name": "stderr",
     "output_type": "stream",
     "text": [
      "2022-10-17 06:57:30.839814: I tensorflow/core/common_runtime/process_util.cc:146] Creating new thread pool with default inter op setting: 2. Tune using inter_op_parallelism_threads for best performance.\n"
     ]
    }
   ],
   "source": [
    "cnn_model= Sequential([\n",
    "    Conv2D(filters=36, kernel_size=7, activation='relu', input_shape= (112,92,1)),\n",
    "    MaxPooling2D(pool_size=2),\n",
    "    Conv2D(filters=54, kernel_size=5, activation='relu', input_shape= (112,92,1)),\n",
    "    MaxPooling2D(pool_size=2),\n",
    "    Flatten(),\n",
    "    Dense(2024, activation='relu'),\n",
    "     Dropout(0.5),\n",
    "    Dense(1024, activation='relu'),\n",
    "    Dropout(0.5),\n",
    "    Dense(512, activation='relu'),\n",
    "    Dropout(0.5),\n",
    "    Dense(20, activation='softmax')                   #20 is the number of outputs\n",
    "])\n",
    "\n",
    "cnn_model.compile(\n",
    "    loss='sparse_categorical_crossentropy',#'categorical_crossentropy',\n",
    "    optimizer='adam',\n",
    "    metrics=['accuracy']\n",
    ")"
   ]
  },
  {
   "cell_type": "code",
   "execution_count": 6,
   "id": "f5108a85",
   "metadata": {
    "execution": {
     "iopub.execute_input": "2022-10-17T06:57:31.245991Z",
     "iopub.status.busy": "2022-10-17T06:57:31.245059Z",
     "iopub.status.idle": "2022-10-17T07:00:35.157189Z",
     "shell.execute_reply": "2022-10-17T07:00:35.156313Z"
    },
    "papermill": {
     "duration": 183.918825,
     "end_time": "2022-10-17T07:00:35.159773",
     "exception": false,
     "start_time": "2022-10-17T06:57:31.240948",
     "status": "completed"
    },
    "tags": []
   },
   "outputs": [
    {
     "name": "stderr",
     "output_type": "stream",
     "text": [
      "2022-10-17 06:57:31.339172: I tensorflow/compiler/mlir/mlir_graph_optimization_pass.cc:185] None of the MLIR Optimization Passes are enabled (registered 2)\n"
     ]
    },
    {
     "name": "stdout",
     "output_type": "stream",
     "text": [
      "Epoch 1/100\n",
      "1/1 - 3s - loss: 3.0104 - accuracy: 0.0260 - val_loss: 3.0976 - val_accuracy: 0.0208\n",
      "Epoch 2/100\n",
      "1/1 - 2s - loss: 3.1914 - accuracy: 0.0677 - val_loss: 2.9853 - val_accuracy: 0.0208\n",
      "Epoch 3/100\n",
      "1/1 - 2s - loss: 3.0310 - accuracy: 0.0625 - val_loss: 2.9945 - val_accuracy: 0.0000e+00\n",
      "Epoch 4/100\n",
      "1/1 - 2s - loss: 2.9958 - accuracy: 0.0781 - val_loss: 2.9915 - val_accuracy: 0.0625\n",
      "Epoch 5/100\n",
      "1/1 - 2s - loss: 2.9856 - accuracy: 0.0885 - val_loss: 2.9880 - val_accuracy: 0.0417\n",
      "Epoch 6/100\n",
      "1/1 - 2s - loss: 2.9742 - accuracy: 0.0833 - val_loss: 2.9850 - val_accuracy: 0.0000e+00\n",
      "Epoch 7/100\n",
      "1/1 - 2s - loss: 2.9432 - accuracy: 0.0833 - val_loss: 2.9868 - val_accuracy: 0.0000e+00\n",
      "Epoch 8/100\n",
      "1/1 - 2s - loss: 2.9375 - accuracy: 0.0885 - val_loss: 2.9505 - val_accuracy: 0.1667\n",
      "Epoch 9/100\n",
      "1/1 - 2s - loss: 2.8855 - accuracy: 0.1354 - val_loss: 2.9229 - val_accuracy: 0.1667\n",
      "Epoch 10/100\n",
      "1/1 - 2s - loss: 2.8246 - accuracy: 0.1875 - val_loss: 2.9335 - val_accuracy: 0.1458\n",
      "Epoch 11/100\n",
      "1/1 - 2s - loss: 2.7307 - accuracy: 0.1719 - val_loss: 2.7828 - val_accuracy: 0.2708\n",
      "Epoch 12/100\n",
      "1/1 - 2s - loss: 2.6148 - accuracy: 0.2552 - val_loss: 2.6647 - val_accuracy: 0.2708\n",
      "Epoch 13/100\n",
      "1/1 - 2s - loss: 2.4983 - accuracy: 0.2552 - val_loss: 2.5096 - val_accuracy: 0.3125\n",
      "Epoch 14/100\n",
      "1/1 - 2s - loss: 2.4207 - accuracy: 0.2604 - val_loss: 2.4309 - val_accuracy: 0.3542\n",
      "Epoch 15/100\n",
      "1/1 - 2s - loss: 2.2437 - accuracy: 0.4271 - val_loss: 2.2199 - val_accuracy: 0.3750\n",
      "Epoch 16/100\n",
      "1/1 - 2s - loss: 2.0438 - accuracy: 0.4271 - val_loss: 1.9954 - val_accuracy: 0.3542\n",
      "Epoch 17/100\n",
      "1/1 - 2s - loss: 1.8965 - accuracy: 0.3802 - val_loss: 1.8157 - val_accuracy: 0.4375\n",
      "Epoch 18/100\n",
      "1/1 - 2s - loss: 1.6984 - accuracy: 0.5260 - val_loss: 1.5344 - val_accuracy: 0.6458\n",
      "Epoch 19/100\n",
      "1/1 - 2s - loss: 1.5306 - accuracy: 0.5312 - val_loss: 1.1507 - val_accuracy: 0.7500\n",
      "Epoch 20/100\n",
      "1/1 - 2s - loss: 1.4375 - accuracy: 0.5208 - val_loss: 1.1111 - val_accuracy: 0.7500\n",
      "Epoch 21/100\n",
      "1/1 - 2s - loss: 1.2234 - accuracy: 0.6094 - val_loss: 1.1267 - val_accuracy: 0.6875\n",
      "Epoch 22/100\n",
      "1/1 - 2s - loss: 1.1494 - accuracy: 0.6458 - val_loss: 1.0097 - val_accuracy: 0.7917\n",
      "Epoch 23/100\n",
      "1/1 - 2s - loss: 0.9721 - accuracy: 0.7135 - val_loss: 0.7569 - val_accuracy: 0.8333\n",
      "Epoch 24/100\n",
      "1/1 - 2s - loss: 0.8881 - accuracy: 0.7292 - val_loss: 0.5647 - val_accuracy: 0.9167\n",
      "Epoch 25/100\n",
      "1/1 - 2s - loss: 0.7709 - accuracy: 0.7917 - val_loss: 0.4784 - val_accuracy: 0.8958\n",
      "Epoch 26/100\n",
      "1/1 - 2s - loss: 0.6180 - accuracy: 0.8177 - val_loss: 0.3573 - val_accuracy: 0.9375\n",
      "Epoch 27/100\n",
      "1/1 - 2s - loss: 0.4085 - accuracy: 0.8698 - val_loss: 0.2411 - val_accuracy: 0.9583\n",
      "Epoch 28/100\n",
      "1/1 - 2s - loss: 0.4607 - accuracy: 0.8438 - val_loss: 0.2705 - val_accuracy: 0.9583\n",
      "Epoch 29/100\n",
      "1/1 - 2s - loss: 0.3151 - accuracy: 0.9271 - val_loss: 0.2726 - val_accuracy: 0.9583\n",
      "Epoch 30/100\n",
      "1/1 - 2s - loss: 0.3326 - accuracy: 0.9219 - val_loss: 0.2090 - val_accuracy: 0.9583\n",
      "Epoch 31/100\n",
      "1/1 - 2s - loss: 0.2551 - accuracy: 0.9375 - val_loss: 0.1567 - val_accuracy: 0.9583\n",
      "Epoch 32/100\n",
      "1/1 - 2s - loss: 0.2116 - accuracy: 0.9531 - val_loss: 0.1489 - val_accuracy: 0.9583\n",
      "Epoch 33/100\n",
      "1/1 - 2s - loss: 0.1896 - accuracy: 0.9375 - val_loss: 0.1063 - val_accuracy: 0.9792\n",
      "Epoch 34/100\n",
      "1/1 - 2s - loss: 0.1409 - accuracy: 0.9583 - val_loss: 0.0844 - val_accuracy: 0.9792\n",
      "Epoch 35/100\n",
      "1/1 - 2s - loss: 0.0726 - accuracy: 0.9844 - val_loss: 0.0778 - val_accuracy: 0.9792\n",
      "Epoch 36/100\n",
      "1/1 - 2s - loss: 0.1382 - accuracy: 0.9479 - val_loss: 0.0737 - val_accuracy: 0.9792\n",
      "Epoch 37/100\n",
      "1/1 - 2s - loss: 0.0653 - accuracy: 0.9896 - val_loss: 0.0785 - val_accuracy: 0.9792\n",
      "Epoch 38/100\n",
      "1/1 - 2s - loss: 0.0709 - accuracy: 0.9792 - val_loss: 0.0676 - val_accuracy: 0.9792\n",
      "Epoch 39/100\n",
      "1/1 - 2s - loss: 0.0771 - accuracy: 0.9740 - val_loss: 0.0573 - val_accuracy: 0.9792\n",
      "Epoch 40/100\n",
      "1/1 - 2s - loss: 0.0504 - accuracy: 0.9896 - val_loss: 0.0560 - val_accuracy: 0.9792\n",
      "Epoch 41/100\n",
      "1/1 - 2s - loss: 0.0560 - accuracy: 0.9792 - val_loss: 0.0457 - val_accuracy: 0.9792\n",
      "Epoch 42/100\n",
      "1/1 - 2s - loss: 0.0521 - accuracy: 0.9896 - val_loss: 0.0239 - val_accuracy: 1.0000\n",
      "Epoch 43/100\n",
      "1/1 - 2s - loss: 0.0498 - accuracy: 0.9896 - val_loss: 0.0157 - val_accuracy: 1.0000\n",
      "Epoch 44/100\n",
      "1/1 - 2s - loss: 0.0560 - accuracy: 0.9844 - val_loss: 0.0129 - val_accuracy: 1.0000\n",
      "Epoch 45/100\n",
      "1/1 - 2s - loss: 0.0454 - accuracy: 0.9740 - val_loss: 0.0150 - val_accuracy: 1.0000\n",
      "Epoch 46/100\n",
      "1/1 - 2s - loss: 0.0310 - accuracy: 0.9896 - val_loss: 0.0180 - val_accuracy: 1.0000\n",
      "Epoch 47/100\n",
      "1/1 - 2s - loss: 0.0207 - accuracy: 0.9948 - val_loss: 0.0224 - val_accuracy: 1.0000\n",
      "Epoch 48/100\n",
      "1/1 - 2s - loss: 0.0256 - accuracy: 0.9948 - val_loss: 0.0291 - val_accuracy: 0.9792\n",
      "Epoch 49/100\n",
      "1/1 - 2s - loss: 0.0449 - accuracy: 0.9896 - val_loss: 0.0372 - val_accuracy: 0.9792\n",
      "Epoch 50/100\n",
      "1/1 - 2s - loss: 0.0163 - accuracy: 0.9948 - val_loss: 0.0449 - val_accuracy: 0.9792\n",
      "Epoch 51/100\n",
      "1/1 - 2s - loss: 0.0253 - accuracy: 0.9896 - val_loss: 0.0482 - val_accuracy: 0.9792\n",
      "Epoch 52/100\n",
      "1/1 - 2s - loss: 0.0165 - accuracy: 0.9896 - val_loss: 0.0563 - val_accuracy: 0.9792\n",
      "Epoch 53/100\n",
      "1/1 - 2s - loss: 0.0131 - accuracy: 0.9948 - val_loss: 0.0620 - val_accuracy: 0.9792\n",
      "Epoch 54/100\n",
      "1/1 - 2s - loss: 0.0024 - accuracy: 1.0000 - val_loss: 0.0717 - val_accuracy: 0.9792\n",
      "Epoch 55/100\n",
      "1/1 - 2s - loss: 0.0084 - accuracy: 0.9948 - val_loss: 0.0766 - val_accuracy: 0.9792\n",
      "Epoch 56/100\n",
      "1/1 - 2s - loss: 0.0157 - accuracy: 1.0000 - val_loss: 0.0747 - val_accuracy: 0.9792\n",
      "Epoch 57/100\n",
      "1/1 - 2s - loss: 0.0034 - accuracy: 1.0000 - val_loss: 0.0725 - val_accuracy: 0.9792\n",
      "Epoch 58/100\n",
      "1/1 - 2s - loss: 0.0016 - accuracy: 1.0000 - val_loss: 0.0714 - val_accuracy: 0.9792\n",
      "Epoch 59/100\n",
      "1/1 - 2s - loss: 0.0044 - accuracy: 1.0000 - val_loss: 0.0757 - val_accuracy: 0.9792\n",
      "Epoch 60/100\n",
      "1/1 - 2s - loss: 0.0037 - accuracy: 1.0000 - val_loss: 0.0945 - val_accuracy: 0.9792\n",
      "Epoch 61/100\n",
      "1/1 - 2s - loss: 0.0026 - accuracy: 1.0000 - val_loss: 0.1055 - val_accuracy: 0.9792\n",
      "Epoch 62/100\n",
      "1/1 - 2s - loss: 0.0075 - accuracy: 1.0000 - val_loss: 0.0831 - val_accuracy: 0.9792\n",
      "Epoch 63/100\n",
      "1/1 - 2s - loss: 0.0010 - accuracy: 1.0000 - val_loss: 0.0666 - val_accuracy: 0.9792\n",
      "Epoch 64/100\n",
      "1/1 - 2s - loss: 0.0039 - accuracy: 1.0000 - val_loss: 0.0434 - val_accuracy: 0.9792\n",
      "Epoch 65/100\n",
      "1/1 - 2s - loss: 0.0183 - accuracy: 0.9896 - val_loss: 0.0291 - val_accuracy: 0.9792\n",
      "Epoch 66/100\n",
      "1/1 - 2s - loss: 0.0018 - accuracy: 1.0000 - val_loss: 0.0191 - val_accuracy: 0.9792\n",
      "Epoch 67/100\n",
      "1/1 - 2s - loss: 0.0016 - accuracy: 1.0000 - val_loss: 0.0133 - val_accuracy: 1.0000\n",
      "Epoch 68/100\n",
      "1/1 - 2s - loss: 0.0011 - accuracy: 1.0000 - val_loss: 0.0093 - val_accuracy: 1.0000\n",
      "Epoch 69/100\n",
      "1/1 - 2s - loss: 0.0137 - accuracy: 0.9948 - val_loss: 0.0060 - val_accuracy: 1.0000\n",
      "Epoch 70/100\n",
      "1/1 - 2s - loss: 0.0020 - accuracy: 1.0000 - val_loss: 0.0042 - val_accuracy: 1.0000\n",
      "Epoch 71/100\n",
      "1/1 - 2s - loss: 6.5460e-04 - accuracy: 1.0000 - val_loss: 0.0031 - val_accuracy: 1.0000\n",
      "Epoch 72/100\n",
      "1/1 - 2s - loss: 0.0039 - accuracy: 1.0000 - val_loss: 0.0025 - val_accuracy: 1.0000\n",
      "Epoch 73/100\n",
      "1/1 - 2s - loss: 0.0025 - accuracy: 1.0000 - val_loss: 0.0024 - val_accuracy: 1.0000\n",
      "Epoch 74/100\n",
      "1/1 - 2s - loss: 0.0017 - accuracy: 1.0000 - val_loss: 0.0024 - val_accuracy: 1.0000\n",
      "Epoch 75/100\n",
      "1/1 - 2s - loss: 0.0015 - accuracy: 1.0000 - val_loss: 0.0024 - val_accuracy: 1.0000\n",
      "Epoch 76/100\n",
      "1/1 - 2s - loss: 0.0014 - accuracy: 1.0000 - val_loss: 0.0026 - val_accuracy: 1.0000\n",
      "Epoch 77/100\n",
      "1/1 - 2s - loss: 0.0019 - accuracy: 1.0000 - val_loss: 0.0025 - val_accuracy: 1.0000\n",
      "Epoch 78/100\n",
      "1/1 - 2s - loss: 0.0016 - accuracy: 1.0000 - val_loss: 0.0024 - val_accuracy: 1.0000\n",
      "Epoch 79/100\n",
      "1/1 - 2s - loss: 0.0033 - accuracy: 1.0000 - val_loss: 0.0019 - val_accuracy: 1.0000\n",
      "Epoch 80/100\n",
      "1/1 - 2s - loss: 0.0028 - accuracy: 1.0000 - val_loss: 0.0017 - val_accuracy: 1.0000\n",
      "Epoch 81/100\n",
      "1/1 - 2s - loss: 0.0086 - accuracy: 0.9948 - val_loss: 0.0025 - val_accuracy: 1.0000\n",
      "Epoch 82/100\n",
      "1/1 - 2s - loss: 0.0017 - accuracy: 1.0000 - val_loss: 0.0036 - val_accuracy: 1.0000\n",
      "Epoch 83/100\n",
      "1/1 - 2s - loss: 0.0019 - accuracy: 1.0000 - val_loss: 0.0052 - val_accuracy: 1.0000\n",
      "Epoch 84/100\n",
      "1/1 - 2s - loss: 7.6463e-04 - accuracy: 1.0000 - val_loss: 0.0073 - val_accuracy: 1.0000\n",
      "Epoch 85/100\n",
      "1/1 - 2s - loss: 0.0113 - accuracy: 0.9948 - val_loss: 0.0068 - val_accuracy: 1.0000\n",
      "Epoch 86/100\n",
      "1/1 - 2s - loss: 0.0013 - accuracy: 1.0000 - val_loss: 0.0069 - val_accuracy: 1.0000\n",
      "Epoch 87/100\n",
      "1/1 - 2s - loss: 6.6677e-04 - accuracy: 1.0000 - val_loss: 0.0073 - val_accuracy: 1.0000\n",
      "Epoch 88/100\n",
      "1/1 - 2s - loss: 5.3156e-04 - accuracy: 1.0000 - val_loss: 0.0076 - val_accuracy: 1.0000\n",
      "Epoch 89/100\n",
      "1/1 - 2s - loss: 0.0018 - accuracy: 1.0000 - val_loss: 0.0092 - val_accuracy: 1.0000\n",
      "Epoch 90/100\n",
      "1/1 - 2s - loss: 0.0154 - accuracy: 0.9948 - val_loss: 0.0088 - val_accuracy: 1.0000\n",
      "Epoch 91/100\n",
      "1/1 - 2s - loss: 4.1959e-04 - accuracy: 1.0000 - val_loss: 0.0090 - val_accuracy: 1.0000\n",
      "Epoch 92/100\n",
      "1/1 - 2s - loss: 3.4210e-04 - accuracy: 1.0000 - val_loss: 0.0097 - val_accuracy: 1.0000\n",
      "Epoch 93/100\n",
      "1/1 - 2s - loss: 0.0065 - accuracy: 0.9948 - val_loss: 0.0175 - val_accuracy: 0.9792\n",
      "Epoch 94/100\n",
      "1/1 - 2s - loss: 0.0017 - accuracy: 1.0000 - val_loss: 0.0282 - val_accuracy: 0.9792\n",
      "Epoch 95/100\n",
      "1/1 - 2s - loss: 0.0035 - accuracy: 1.0000 - val_loss: 0.0372 - val_accuracy: 0.9792\n",
      "Epoch 96/100\n",
      "1/1 - 2s - loss: 0.0075 - accuracy: 0.9948 - val_loss: 0.0379 - val_accuracy: 0.9792\n",
      "Epoch 97/100\n",
      "1/1 - 2s - loss: 0.0185 - accuracy: 0.9948 - val_loss: 0.0152 - val_accuracy: 1.0000\n",
      "Epoch 98/100\n",
      "1/1 - 2s - loss: 6.5279e-04 - accuracy: 1.0000 - val_loss: 0.0066 - val_accuracy: 1.0000\n",
      "Epoch 99/100\n",
      "1/1 - 2s - loss: 0.0060 - accuracy: 0.9948 - val_loss: 0.0038 - val_accuracy: 1.0000\n",
      "Epoch 100/100\n",
      "1/1 - 2s - loss: 0.0011 - accuracy: 1.0000 - val_loss: 0.0027 - val_accuracy: 1.0000\n"
     ]
    }
   ],
   "source": [
    "history=cnn_model.fit(\n",
    "    np.array(x_train), np.array(y_train), batch_size=512,\n",
    "    epochs=100, verbose=2,\n",
    "    validation_data=(np.array(x_val),np.array(y_val)),\n",
    ")"
   ]
  },
  {
   "cell_type": "code",
   "execution_count": 7,
   "id": "27b054e5",
   "metadata": {
    "execution": {
     "iopub.execute_input": "2022-10-17T07:00:35.188666Z",
     "iopub.status.busy": "2022-10-17T07:00:35.188036Z",
     "iopub.status.idle": "2022-10-17T07:00:35.826422Z",
     "shell.execute_reply": "2022-10-17T07:00:35.825341Z"
    },
    "papermill": {
     "duration": 0.65545,
     "end_time": "2022-10-17T07:00:35.828336",
     "exception": false,
     "start_time": "2022-10-17T07:00:35.172886",
     "status": "completed"
    },
    "tags": []
   },
   "outputs": [
    {
     "name": "stdout",
     "output_type": "stream",
     "text": [
      "test los 0.6262\n",
      "test acc 0.9000\n"
     ]
    }
   ],
   "source": [
    "test_scor = cnn_model.evaluate( np.array(x_test),  np.array(y_test), verbose=0)\n",
    "\n",
    "print('test los {:.4f}'.format(test_scor[0]))\n",
    "print('test acc {:.4f}'.format(test_scor[1]))"
   ]
  },
  {
   "cell_type": "code",
   "execution_count": 8,
   "id": "86a49ad1",
   "metadata": {
    "execution": {
     "iopub.execute_input": "2022-10-17T07:00:35.856407Z",
     "iopub.status.busy": "2022-10-17T07:00:35.856053Z",
     "iopub.status.idle": "2022-10-17T07:00:36.191073Z",
     "shell.execute_reply": "2022-10-17T07:00:36.189704Z"
    },
    "papermill": {
     "duration": 0.351632,
     "end_time": "2022-10-17T07:00:36.193199",
     "exception": false,
     "start_time": "2022-10-17T07:00:35.841567",
     "status": "completed"
    },
    "tags": []
   },
   "outputs": [
    {
     "data": {
      "image/png": "[encoded data removed]",
      "text/plain": [
       "<Figure size 432x288 with 1 Axes>"
      ]
     },
     "metadata": {
      "needs_background": "light"
     },
     "output_type": "display_data"
    },
    {
     "data": {
      "image/png": "[encoded data removed]",
      "text/plain": [
       "<Figure size 432x288 with 1 Axes>"
      ]
     },
     "metadata": {
      "needs_background": "light"
     },
     "output_type": "display_data"
    }
   ],
   "source": [
    "plt.plot(history.history['accuracy'])\n",
    "plt.plot(history.history['val_accuracy'])\n",
    "plt.title('model accuracy')\n",
    "plt.ylabel('accuracy')\n",
    "plt.xlabel('epoch')\n",
    "plt.legend(['train', 'test'], loc='upper left')\n",
    "plt.show()\n",
    "# summarize history for loss\n",
    "plt.plot(history.history['loss'])\n",
    "plt.plot(history.history['val_loss'])\n",
    "plt.title('model loss')\n",
    "plt.ylabel('loss')\n",
    "plt.xlabel('epoch')\n",
    "plt.legend(['train', 'test'], loc='upper left')\n",
    "plt.show()"
   ]
  }
 ],
 "metadata": {
  "kernelspec": {
   "display_name": "Python 3",
   "language": "python",
   "name": "python3"
  },
  "language_info": {
   "codemirror_mode": {
    "name": "ipython",
    "version": 3
   },
   "file_extension": ".py",
   "mimetype": "text/x-python",
   "name": "python",
   "nbconvert_exporter": "python",
   "pygments_lexer": "ipython3",
   "version": "3.7.12"
  },
  "papermill": {
   "default_parameters": {},
   "duration": 205.113717,
   "end_time": "2022-10-17T07:00:39.665408",
   "environment_variables": {},
   "exception": null,
   "input_path": "__notebook__.ipynb",
   "output_path": "__notebook__.ipynb",
   "parameters": {},
   "start_time": "2022-10-17T06:57:14.551691",
   "version": "2.3.4"
  }
 },
 "nbformat": 4,
 "nbformat_minor": 5
}
