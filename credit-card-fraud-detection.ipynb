{
 "cells": [
  {
   "cell_type": "code",
   "execution_count": 1,
   "id": "e81998ce",
   "metadata": {
    "_cell_guid": "b1076dfc-b9ad-4769-8c92-a6c4dae69d19",
    "_uuid": "8f2839f25d086af736a60e9eeb907d3b93b6e0e5",
    "execution": {
     "iopub.execute_input": "2022-10-18T07:16:39.359072Z",
     "iopub.status.busy": "2022-10-18T07:16:39.358613Z",
     "iopub.status.idle": "2022-10-18T07:16:39.378197Z",
     "shell.execute_reply": "2022-10-18T07:16:39.376771Z"
    },
    "papermill": {
     "duration": 0.032222,
     "end_time": "2022-10-18T07:16:39.381724",
     "exception": false,
     "start_time": "2022-10-18T07:16:39.349502",
     "status": "completed"
    },
    "tags": []
   },
   "outputs": [
    {
     "name": "stdout",
     "output_type": "stream",
     "text": [
      "/kaggle/input/creditcardfraud/creditcard.csv\n"
     ]
    }
   ],
   "source": [
    "# This Python 3 environment comes with many helpful analytics libraries installed\n",
    "# It is defined by the kaggle/python Docker image: https://github.com/kaggle/docker-python\n",
    "# For example, here's several helpful packages to load\n",
    "\n",
    "import numpy as np # linear algebra\n",
    "import pandas as pd # data processing, CSV file I/O (e.g. pd.read_csv)\n",
    "\n",
    "# Input data files are available in the read-only \"../input/\" directory\n",
    "# For example, running this (by clicking run or pressing Shift+Enter) will list all files under the input directory\n",
    "\n",
    "import os\n",
    "for dirname, _, filenames in os.walk('/kaggle/input'):\n",
    "    for filename in filenames:\n",
    "        print(os.path.join(dirname, filename))\n",
    "\n",
    "# You can write up to 20GB to the current directory (/kaggle/working/) that gets preserved as output when you create a version using \"Save & Run All\" \n",
    "# You can also write temporary files to /kaggle/temp/, but they won't be saved outside of the current session"
   ]
  },
  {
   "cell_type": "code",
   "execution_count": 2,
   "id": "88481377",
   "metadata": {
    "execution": {
     "iopub.execute_input": "2022-10-18T07:16:39.395484Z",
     "iopub.status.busy": "2022-10-18T07:16:39.394775Z",
     "iopub.status.idle": "2022-10-18T07:16:45.396113Z",
     "shell.execute_reply": "2022-10-18T07:16:45.394479Z"
    },
    "papermill": {
     "duration": 6.011192,
     "end_time": "2022-10-18T07:16:45.399258",
     "exception": false,
     "start_time": "2022-10-18T07:16:39.388066",
     "status": "completed"
    },
    "tags": []
   },
   "outputs": [],
   "source": [
    "import pandas as pd\n",
    "import matplotlib.pyplot as plt\n",
    "import seaborn as sns\n",
    "\n",
    "from sklearn.metrics import classification_report\n",
    "from sklearn.metrics import confusion_matrix\n",
    "from sklearn.tree import DecisionTreeClassifier\n",
    "\n",
    "data = pd.read_csv('../input/creditcardfraud/creditcard.csv')\n",
    "\n",
    "x = data.loc[:,data.columns!=\"Class\"]\n",
    "y = data.loc[:,data.columns==\"Class\"]"
   ]
  },
  {
   "cell_type": "code",
   "execution_count": 3,
   "id": "5cda6845",
   "metadata": {
    "execution": {
     "iopub.execute_input": "2022-10-18T07:16:45.411756Z",
     "iopub.status.busy": "2022-10-18T07:16:45.411298Z",
     "iopub.status.idle": "2022-10-18T07:16:45.432903Z",
     "shell.execute_reply": "2022-10-18T07:16:45.431615Z"
    },
    "papermill": {
     "duration": 0.031001,
     "end_time": "2022-10-18T07:16:45.435502",
     "exception": false,
     "start_time": "2022-10-18T07:16:45.404501",
     "status": "completed"
    },
    "tags": []
   },
   "outputs": [
    {
     "data": {
      "text/plain": [
       "0    284315\n",
       "1       492\n",
       "Name: Class, dtype: int64"
      ]
     },
     "execution_count": 3,
     "metadata": {},
     "output_type": "execute_result"
    }
   ],
   "source": [
    "data['Class'].value_counts() #Imbalanced Class Problem"
   ]
  },
  {
   "cell_type": "code",
   "execution_count": 4,
   "id": "f2f8b55d",
   "metadata": {
    "execution": {
     "iopub.execute_input": "2022-10-18T07:16:45.449407Z",
     "iopub.status.busy": "2022-10-18T07:16:45.447136Z",
     "iopub.status.idle": "2022-10-18T07:16:48.475335Z",
     "shell.execute_reply": "2022-10-18T07:16:48.474145Z"
    },
    "papermill": {
     "duration": 3.03738,
     "end_time": "2022-10-18T07:16:48.478070",
     "exception": false,
     "start_time": "2022-10-18T07:16:45.440690",
     "status": "completed"
    },
    "tags": []
   },
   "outputs": [],
   "source": [
    "from sklearn.model_selection import train_test_split\n",
    "from sklearn.preprocessing import StandardScaler\n",
    "from imblearn.over_sampling import SMOTE\n",
    "from imblearn.under_sampling import RandomUnderSampler\n",
    "import numpy as np\n",
    "\n",
    "xtrain, xtest, ytrain, ytest = train_test_split(x,y,test_size=0.25,stratify=y,random_state=42)\n",
    "xtrain, xval, ytrain, yval = train_test_split(xtrain,ytrain,test_size=0.2,stratify=ytrain,random_state=42)\n",
    "std_scale = StandardScaler().fit(xtrain)\n",
    " \n",
    "x_train_std = std_scale.transform(xtrain)\n",
    "x_test_std = std_scale.transform(xtest)\n",
    "x_val_std = std_scale.transform(xval)\n",
    "\n",
    "oversample = SMOTE(sampling_strategy=0.5)\n",
    "under = RandomUnderSampler(sampling_strategy=0.7)\n",
    "\n",
    "x_train_over , y_train_over = oversample.fit_resample(x_train_std, ytrain)\n",
    "x_val_over , y_val_over = oversample.fit_resample(x_val_std, yval)\n",
    "x_test_over , y_test_over = oversample.fit_resample(x_test_std, ytest)\n",
    "\n",
    "x_train_under , y_train_under = under.fit_resample(x_train_over, y_train_over)\n",
    "x_val_under , y_val_under = under.fit_resample(x_val_over, y_val_over)\n",
    "x_test_under , y_test_under = under.fit_resample(x_test_over, y_test_over)\n",
    "\n",
    "\n",
    "features= data.drop('Class', axis = 1)\n",
    "labels = np.array(data['Class'])\n",
    "train_features, val_features, train_labels, val_labels = train_test_split(features, labels, test_size = 0.25, random_state = 42)\n",
    "test_features = data"
   ]
  },
  {
   "cell_type": "code",
   "execution_count": 5,
   "id": "7d35838c",
   "metadata": {
    "execution": {
     "iopub.execute_input": "2022-10-18T07:16:48.490157Z",
     "iopub.status.busy": "2022-10-18T07:16:48.489758Z",
     "iopub.status.idle": "2022-10-18T07:16:48.504398Z",
     "shell.execute_reply": "2022-10-18T07:16:48.503302Z"
    },
    "papermill": {
     "duration": 0.023911,
     "end_time": "2022-10-18T07:16:48.507268",
     "exception": false,
     "start_time": "2022-10-18T07:16:48.483357",
     "status": "completed"
    },
    "tags": []
   },
   "outputs": [
    {
     "data": {
      "text/plain": [
       "Class\n",
       "0        121848\n",
       "1         85294\n",
       "dtype: int64"
      ]
     },
     "execution_count": 5,
     "metadata": {},
     "output_type": "execute_result"
    }
   ],
   "source": [
    "y_train_under.value_counts()"
   ]
  },
  {
   "cell_type": "code",
   "execution_count": 6,
   "id": "1781b029",
   "metadata": {
    "execution": {
     "iopub.execute_input": "2022-10-18T07:16:48.520104Z",
     "iopub.status.busy": "2022-10-18T07:16:48.519701Z",
     "iopub.status.idle": "2022-10-18T07:16:48.528899Z",
     "shell.execute_reply": "2022-10-18T07:16:48.528036Z"
    },
    "papermill": {
     "duration": 0.018255,
     "end_time": "2022-10-18T07:16:48.531199",
     "exception": false,
     "start_time": "2022-10-18T07:16:48.512944",
     "status": "completed"
    },
    "tags": []
   },
   "outputs": [],
   "source": [
    "from sklearn import naive_bayes\n",
    "# Naive Bayes Classification\n",
    "\n",
    "from sklearn.naive_bayes import GaussianNB\n",
    "from sklearn.metrics import f1_score\n",
    "\n",
    "class NB:\n",
    "  def train_model(A,B):\n",
    "    naive = GaussianNB()\n",
    "    naive.fit(A, B)\n",
    "    return naive\n",
    "\n",
    "  def output_model(naive,P,Q):\n",
    "    print(naive.score(P, Q))\n",
    "    naive_matrix = confusion_matrix(Q,naive.predict(P))\n",
    "    print(naive_matrix)\n",
    "    return ' '"
   ]
  },
  {
   "cell_type": "code",
   "execution_count": 7,
   "id": "286869e1",
   "metadata": {
    "execution": {
     "iopub.execute_input": "2022-10-18T07:16:48.543999Z",
     "iopub.status.busy": "2022-10-18T07:16:48.543594Z",
     "iopub.status.idle": "2022-10-18T07:16:48.550737Z",
     "shell.execute_reply": "2022-10-18T07:16:48.549494Z"
    },
    "papermill": {
     "duration": 0.016246,
     "end_time": "2022-10-18T07:16:48.553075",
     "exception": false,
     "start_time": "2022-10-18T07:16:48.536829",
     "status": "completed"
    },
    "tags": []
   },
   "outputs": [],
   "source": [
    "from sklearn import preprocessing\n",
    "from sklearn.linear_model import LogisticRegression\n",
    "\n",
    "class LogReg:\n",
    "  def train_model(A,B):\n",
    "    logreg = LogisticRegression(solver='liblinear', random_state=0)\n",
    "    logreg.fit(A, B)\n",
    "    return logreg\n",
    "  \n",
    "  def output_model(logreg,P,Q):\n",
    "    print(logreg.score(P, Q))\n",
    "    logreg_matrix = confusion_matrix(Q,logreg.predict(P))\n",
    "    print(logreg_matrix)\n",
    "    return ' '"
   ]
  },
  {
   "cell_type": "code",
   "execution_count": 8,
   "id": "792a08be",
   "metadata": {
    "execution": {
     "iopub.execute_input": "2022-10-18T07:16:48.565863Z",
     "iopub.status.busy": "2022-10-18T07:16:48.565479Z",
     "iopub.status.idle": "2022-10-18T07:16:48.575147Z",
     "shell.execute_reply": "2022-10-18T07:16:48.573805Z"
    },
    "papermill": {
     "duration": 0.018978,
     "end_time": "2022-10-18T07:16:48.577505",
     "exception": false,
     "start_time": "2022-10-18T07:16:48.558527",
     "status": "completed"
    },
    "tags": []
   },
   "outputs": [],
   "source": [
    "from sklearn.multiclass import OneVsRestClassifier\n",
    "from sklearn.svm import LinearSVC\n",
    "\n",
    "class SVM_Classifier:\n",
    "  def train_model(A,B):\n",
    "    clf = OneVsRestClassifier(LinearSVC(class_weight='balanced'))\n",
    "    clf.fit(A, B)\n",
    "    return clf\n",
    "\n",
    "  def output_model(clf,P,Q):\n",
    "    print(clf.score(P, Q))\n",
    "    clf_matrix = confusion_matrix(Q,clf.predict(P))\n",
    "    print(clf_matrix)\n",
    "    return ' '"
   ]
  },
  {
   "cell_type": "code",
   "execution_count": 9,
   "id": "6263cf68",
   "metadata": {
    "execution": {
     "iopub.execute_input": "2022-10-18T07:16:48.590045Z",
     "iopub.status.busy": "2022-10-18T07:16:48.589670Z",
     "iopub.status.idle": "2022-10-18T07:16:48.595700Z",
     "shell.execute_reply": "2022-10-18T07:16:48.594877Z"
    },
    "papermill": {
     "duration": 0.014724,
     "end_time": "2022-10-18T07:16:48.597697",
     "exception": false,
     "start_time": "2022-10-18T07:16:48.582973",
     "status": "completed"
    },
    "tags": []
   },
   "outputs": [],
   "source": [
    "from sklearn.neighbors import KNeighborsClassifier\n",
    "\n",
    "class KNN:\n",
    "  def train_model(A,B):\n",
    "    kmodel = KNeighborsClassifier(n_neighbors = 250)\n",
    "    kmodel.fit(A, B)\n",
    "    return kmodel\n",
    "  \n",
    "  def output_model(kmodel,P,Q):\n",
    "    print(kmodel.score(P, Q))\n",
    "    kmodel_train_matrix = confusion_matrix(Q,kmodel.predict(P))\n",
    "    print(kmodel_train_matrix)\n",
    "    return ' '"
   ]
  },
  {
   "cell_type": "code",
   "execution_count": 10,
   "id": "a5201e8e",
   "metadata": {
    "execution": {
     "iopub.execute_input": "2022-10-18T07:16:48.610546Z",
     "iopub.status.busy": "2022-10-18T07:16:48.609778Z",
     "iopub.status.idle": "2022-10-18T07:16:48.616885Z",
     "shell.execute_reply": "2022-10-18T07:16:48.615811Z"
    },
    "papermill": {
     "duration": 0.016265,
     "end_time": "2022-10-18T07:16:48.619424",
     "exception": false,
     "start_time": "2022-10-18T07:16:48.603159",
     "status": "completed"
    },
    "tags": []
   },
   "outputs": [],
   "source": [
    "from sklearn.ensemble import RandomForestClassifier\n",
    "\n",
    "class randomForest:\n",
    "  def train_model(A,B):\n",
    "    rf = RandomForestClassifier(n_estimators = 500, random_state = 42, class_weight='balanced')\n",
    "    rf.fit(A, B);\n",
    "    return rf\n",
    "\n",
    "  def output_model(rf,P,Q):\n",
    "    print(rf.score(P, Q))\n",
    "    rf_matrix = confusion_matrix(Q,rf.predict(P))\n",
    "    print(rf_matrix)\n",
    "    return ' '"
   ]
  },
  {
   "cell_type": "code",
   "execution_count": 11,
   "id": "90825c0f",
   "metadata": {
    "execution": {
     "iopub.execute_input": "2022-10-18T07:16:48.632823Z",
     "iopub.status.busy": "2022-10-18T07:16:48.632414Z",
     "iopub.status.idle": "2022-10-18T07:16:48.762783Z",
     "shell.execute_reply": "2022-10-18T07:16:48.761614Z"
    },
    "papermill": {
     "duration": 0.140267,
     "end_time": "2022-10-18T07:16:48.765474",
     "exception": false,
     "start_time": "2022-10-18T07:16:48.625207",
     "status": "completed"
    },
    "tags": []
   },
   "outputs": [],
   "source": [
    "from graphviz import Source\n",
    "import xgboost as xgb\n",
    "\n",
    "class XGB:\n",
    "  def train_model(A,B):\n",
    "    xgb_model = xgb.XGBClassifier(learning_rate=0.001, max_depth = 3, n_estimators = 100, scale_pos_weight=5)\n",
    "    xgb_model.fit(A, B)\n",
    "\n",
    "  def output_model(P,Q):\n",
    "    print(xgb_model.score(P, Q))\n",
    "    xgbmodel_train_matrix = confusion_matrix(Q,xgb_model.predict(P))\n",
    "    print(xgbmodel_train_matrix)\n",
    "    return ' ' \n",
    "  \n",
    "  def print_XGBTree(P,Q):\n",
    "    DM = xgb.DMatrix(P, label=Q)\n",
    "    param = { 'eta': 0.3, 'max_depth': 3,  'objective': 'multi:softprob',  'num_class': 3 } \n",
    "    steps = 20\n",
    "    \n",
    "    XGB_Tree_model = xgb.train(param, DM, steps)\n",
    "    xgb.plot_importance(XGB_Tree_model)\n",
    "    fig = plt.gcf()\n",
    "    fig.set_size_inches(18.5, 10.5)\n",
    "    \n",
    "    xgb.plot_tree(XGB_Tree_model, num_trees=3)\n",
    "    fig = plt.gcf()\n",
    "    fig.set_size_inches(18.5, 10.5)\n",
    "    \n",
    "    image = xgb.to_graphviz(XGB_Tree_model)\n",
    "    image.graph_attr = {'dpi':'400'}\n",
    "    image.render('XG Boost Tree', format = 'png')"
   ]
  },
  {
   "cell_type": "code",
   "execution_count": 12,
   "id": "f63f5d4b",
   "metadata": {
    "execution": {
     "iopub.execute_input": "2022-10-18T07:16:48.779123Z",
     "iopub.status.busy": "2022-10-18T07:16:48.778736Z",
     "iopub.status.idle": "2022-10-18T08:18:38.459518Z",
     "shell.execute_reply": "2022-10-18T08:18:38.457974Z"
    },
    "papermill": {
     "duration": 3709.690856,
     "end_time": "2022-10-18T08:18:38.462281",
     "exception": false,
     "start_time": "2022-10-18T07:16:48.771425",
     "status": "completed"
    },
    "tags": []
   },
   "outputs": [
    {
     "name": "stderr",
     "output_type": "stream",
     "text": [
      "/opt/conda/lib/python3.7/site-packages/sklearn/utils/validation.py:993: DataConversionWarning: A column-vector y was passed when a 1d array was expected. Please change the shape of y to (n_samples, ), for example using ravel().\n",
      "  y = column_or_1d(y, warn=True)\n"
     ]
    },
    {
     "name": "stdout",
     "output_type": "stream",
     "text": [
      "Training Data Results for  <class '__main__.NB'>  is:\n",
      "0.9272141815759237\n",
      "[[119071   2777]\n",
      " [ 12300  72994]]\n",
      " \n",
      "Validation Data Results for  <class '__main__.NB'>  is:\n",
      "0.9140081878572532\n",
      "[[29753   708]\n",
      " [ 3745 17578]]\n",
      " \n",
      "Testng Data Results for  <class '__main__.NB'>  is:\n",
      "0.9171117728162764\n",
      "[[49596  1174]\n",
      " [ 5980 29559]]\n",
      " \n"
     ]
    },
    {
     "name": "stderr",
     "output_type": "stream",
     "text": [
      "/opt/conda/lib/python3.7/site-packages/sklearn/utils/validation.py:993: DataConversionWarning: A column-vector y was passed when a 1d array was expected. Please change the shape of y to (n_samples, ), for example using ravel().\n",
      "  y = column_or_1d(y, warn=True)\n"
     ]
    },
    {
     "name": "stdout",
     "output_type": "stream",
     "text": [
      "Training Data Results for  <class '__main__.LogReg'>  is:\n",
      "0.9595881086404495\n",
      "[[119658   2190]\n",
      " [  6181  79113]]\n",
      " \n",
      "Validation Data Results for  <class '__main__.LogReg'>  is:\n",
      "0.9344392090220918\n",
      "[[29873   588]\n",
      " [ 2807 18516]]\n",
      " \n",
      "Testng Data Results for  <class '__main__.LogReg'>  is:\n",
      "0.9358351967929185\n",
      "[[49866   904]\n",
      " [ 4634 30905]]\n",
      " \n"
     ]
    },
    {
     "name": "stderr",
     "output_type": "stream",
     "text": [
      "/opt/conda/lib/python3.7/site-packages/sklearn/svm/_base.py:1208: ConvergenceWarning: Liblinear failed to converge, increase the number of iterations.\n",
      "  ConvergenceWarning,\n"
     ]
    },
    {
     "name": "stdout",
     "output_type": "stream",
     "text": [
      "Training Data Results for  <class '__main__.SVM_Classifier'>  is:\n",
      "0.9590329339293818\n",
      "[[119034   2814]\n",
      " [  5672  79622]]\n",
      " \n",
      "Validation Data Results for  <class '__main__.SVM_Classifier'>  is:\n",
      "0.9316391163293681\n",
      "[[29730   731]\n",
      " [ 2809 18514]]\n",
      " \n",
      "Testng Data Results for  <class '__main__.SVM_Classifier'>  is:\n",
      "0.934780845566511\n",
      "[[49610  1160]\n",
      " [ 4469 31070]]\n",
      " \n",
      "Training Data Results for  <class '__main__.KNN'>  is:\n"
     ]
    },
    {
     "name": "stderr",
     "output_type": "stream",
     "text": [
      "/opt/conda/lib/python3.7/site-packages/sklearn/neighbors/_classification.py:198: DataConversionWarning: A column-vector y was passed when a 1d array was expected. Please change the shape of y to (n_samples,), for example using ravel().\n",
      "  return self._fit(X, y)\n"
     ]
    },
    {
     "name": "stdout",
     "output_type": "stream",
     "text": [
      "0.986347529713916\n",
      "[[119072   2776]\n",
      " [    52  85242]]\n",
      " \n",
      "Validation Data Results for  <class '__main__.KNN'>  is:\n",
      "0.9284528039548895\n",
      "[[29751   710]\n",
      " [ 2995 18328]]\n",
      " \n",
      "Testng Data Results for  <class '__main__.KNN'>  is:\n",
      "0.9429144121702255\n",
      "[[49628  1142]\n",
      " [ 3785 31754]]\n",
      " \n"
     ]
    },
    {
     "name": "stderr",
     "output_type": "stream",
     "text": [
      "/opt/conda/lib/python3.7/site-packages/ipykernel_launcher.py:6: DataConversionWarning: A column-vector y was passed when a 1d array was expected. Please change the shape of y to (n_samples,), for example using ravel().\n",
      "  \n"
     ]
    },
    {
     "name": "stdout",
     "output_type": "stream",
     "text": [
      "Training Data Results for  <class '__main__.randomForest'>  is:\n",
      "1.0\n",
      "[[121848      0]\n",
      " [     0  85294]]\n",
      " \n",
      "Validation Data Results for  <class '__main__.randomForest'>  is:\n",
      "0.9249768268190947\n",
      "[[30456     5]\n",
      " [ 3880 17443]]\n",
      " \n",
      "Testng Data Results for  <class '__main__.randomForest'>  is:\n",
      "0.933830770835023\n",
      "[[50757    13]\n",
      " [ 5698 29841]]\n",
      " \n"
     ]
    }
   ],
   "source": [
    "def model_tester(model_class):\n",
    "  model = model_class.train_model(x_train_under, y_train_under)\n",
    "  print(\"Training Data Results for \",model_class,\" is:\")\n",
    "  print(model_class.output_model(model, x_train_under, y_train_under))\n",
    "  print(\"Validation Data Results for \",model_class,\" is:\")\n",
    "  print(model_class.output_model(model, x_val_under, y_val_under))\n",
    "  print(\"Testng Data Results for \",model_class,\" is:\")\n",
    "  print(model_class.output_model(model, x_test_under, y_test_under))\n",
    "\n",
    "model_class = [NB, LogReg, SVM_Classifier, KNN, randomForest]\n",
    "for V in model_class:\n",
    "  model_tester(V)"
   ]
  },
  {
   "cell_type": "code",
   "execution_count": 13,
   "id": "b1e767de",
   "metadata": {
    "execution": {
     "iopub.execute_input": "2022-10-18T08:18:38.478344Z",
     "iopub.status.busy": "2022-10-18T08:18:38.477922Z",
     "iopub.status.idle": "2022-10-18T08:18:44.517730Z",
     "shell.execute_reply": "2022-10-18T08:18:44.516764Z"
    },
    "papermill": {
     "duration": 6.05081,
     "end_time": "2022-10-18T08:18:44.520364",
     "exception": false,
     "start_time": "2022-10-18T08:18:38.469554",
     "status": "completed"
    },
    "tags": []
   },
   "outputs": [],
   "source": [
    "import keras\n",
    "from keras.models import Sequential\n",
    "from keras.layers import Conv2D, MaxPooling2D, Dense, Flatten, Dropout\n",
    "from keras.callbacks import TensorBoard\n",
    "from keras.utils import np_utils\n",
    "import itertools"
   ]
  },
  {
   "cell_type": "code",
   "execution_count": 14,
   "id": "f668d556",
   "metadata": {
    "execution": {
     "iopub.execute_input": "2022-10-18T08:18:44.537890Z",
     "iopub.status.busy": "2022-10-18T08:18:44.537196Z",
     "iopub.status.idle": "2022-10-18T08:18:45.103506Z",
     "shell.execute_reply": "2022-10-18T08:18:45.101435Z"
    },
    "papermill": {
     "duration": 0.578582,
     "end_time": "2022-10-18T08:18:45.106986",
     "exception": false,
     "start_time": "2022-10-18T08:18:44.528404",
     "status": "completed"
    },
    "tags": []
   },
   "outputs": [
    {
     "name": "stdout",
     "output_type": "stream",
     "text": [
      "Model: \"sequential\"\n",
      "_________________________________________________________________\n",
      "Layer (type)                 Output Shape              Param #   \n",
      "=================================================================\n",
      "dense (Dense)                (None, 128)               3968      \n",
      "_________________________________________________________________\n",
      "batch_normalization (BatchNo (None, 128)               512       \n",
      "_________________________________________________________________\n",
      "dropout (Dropout)            (None, 128)               0         \n",
      "_________________________________________________________________\n",
      "dense_1 (Dense)              (None, 64)                8256      \n",
      "_________________________________________________________________\n",
      "batch_normalization_1 (Batch (None, 64)                256       \n",
      "_________________________________________________________________\n",
      "dropout_1 (Dropout)          (None, 64)                0         \n",
      "_________________________________________________________________\n",
      "dense_2 (Dense)              (None, 32)                2080      \n",
      "_________________________________________________________________\n",
      "batch_normalization_2 (Batch (None, 32)                128       \n",
      "_________________________________________________________________\n",
      "dropout_2 (Dropout)          (None, 32)                0         \n",
      "_________________________________________________________________\n",
      "dense_3 (Dense)              (None, 1)                 33        \n",
      "=================================================================\n",
      "Total params: 15,233\n",
      "Trainable params: 14,785\n",
      "Non-trainable params: 448\n",
      "_________________________________________________________________\n"
     ]
    },
    {
     "name": "stderr",
     "output_type": "stream",
     "text": [
      "2022-10-18 08:18:44.935062: I tensorflow/core/common_runtime/process_util.cc:146] Creating new thread pool with default inter op setting: 2. Tune using inter_op_parallelism_threads for best performance.\n"
     ]
    }
   ],
   "source": [
    "from tensorflow.keras.layers import BatchNormalization\n",
    "from tensorflow.keras.callbacks import EarlyStopping\n",
    "from tensorflow.keras.optimizers import Adam\n",
    "\n",
    "model = Sequential()\n",
    "\n",
    "model.add(Dense(units = 128, activation = 'relu', input_shape = (x_train_under.shape[1],)))\n",
    "model.add(BatchNormalization())\n",
    "model.add(Dropout(0.2, seed = 123))\n",
    "\n",
    "model.add(Dense(units = 64, activation = 'tanh'))\n",
    "model.add(BatchNormalization())\n",
    "model.add(Dropout(0.2, seed = 123))\n",
    "\n",
    "model.add(Dense(units = 32, activation = 'relu'))          \n",
    "model.add(BatchNormalization())\n",
    "model.add(Dropout(0.2, seed = 123))\n",
    "\n",
    "model.add(Dense(units = 1, activation = 'sigmoid'))\n",
    "\n",
    "es = EarlyStopping(monitor = \"accuracy\", patience = 4)\n",
    "model.compile(optimizer = Adam(learning_rate = 0.01), loss = 'binary_crossentropy', metrics = ['accuracy'])\n",
    "model.summary()"
   ]
  },
  {
   "cell_type": "code",
   "execution_count": 15,
   "id": "a45b7ddc",
   "metadata": {
    "execution": {
     "iopub.execute_input": "2022-10-18T08:18:45.124143Z",
     "iopub.status.busy": "2022-10-18T08:18:45.123735Z",
     "iopub.status.idle": "2022-10-18T08:26:17.576276Z",
     "shell.execute_reply": "2022-10-18T08:26:17.574631Z"
    },
    "papermill": {
     "duration": 452.46456,
     "end_time": "2022-10-18T08:26:17.579445",
     "exception": false,
     "start_time": "2022-10-18T08:18:45.114885",
     "status": "completed"
    },
    "tags": []
   },
   "outputs": [
    {
     "name": "stderr",
     "output_type": "stream",
     "text": [
      "2022-10-18 08:18:45.244879: I tensorflow/compiler/mlir/mlir_graph_optimization_pass.cc:185] None of the MLIR Optimization Passes are enabled (registered 2)\n"
     ]
    },
    {
     "name": "stdout",
     "output_type": "stream",
     "text": [
      "Epoch 1/100\n",
      "6474/6474 [==============================] - 30s 4ms/step - loss: 0.0505 - accuracy: 0.9826 - val_loss: 0.5035 - val_accuracy: 0.9311\n",
      "Epoch 2/100\n",
      "6474/6474 [==============================] - 27s 4ms/step - loss: 0.0289 - accuracy: 0.9908 - val_loss: 0.4076 - val_accuracy: 0.9299\n",
      "Epoch 3/100\n",
      "6474/6474 [==============================] - 27s 4ms/step - loss: 0.0232 - accuracy: 0.9927 - val_loss: 0.4067 - val_accuracy: 0.9297\n",
      "Epoch 4/100\n",
      "6474/6474 [==============================] - 28s 4ms/step - loss: 0.0211 - accuracy: 0.9940 - val_loss: 0.4742 - val_accuracy: 0.9258\n",
      "Epoch 5/100\n",
      "6474/6474 [==============================] - 27s 4ms/step - loss: 0.0198 - accuracy: 0.9942 - val_loss: 0.4902 - val_accuracy: 0.9298\n",
      "Epoch 6/100\n",
      "6474/6474 [==============================] - 27s 4ms/step - loss: 0.0207 - accuracy: 0.9939 - val_loss: 0.4415 - val_accuracy: 0.9309\n",
      "Epoch 7/100\n",
      "6474/6474 [==============================] - 27s 4ms/step - loss: 0.0185 - accuracy: 0.9947 - val_loss: 0.4430 - val_accuracy: 0.9296\n",
      "Epoch 8/100\n",
      "6474/6474 [==============================] - 28s 4ms/step - loss: 0.0183 - accuracy: 0.9950 - val_loss: 0.4688 - val_accuracy: 0.9283\n",
      "Epoch 9/100\n",
      "6474/6474 [==============================] - 30s 5ms/step - loss: 0.0176 - accuracy: 0.9949 - val_loss: 0.5702 - val_accuracy: 0.9277\n",
      "Epoch 10/100\n",
      "6474/6474 [==============================] - 29s 4ms/step - loss: 0.0156 - accuracy: 0.9956 - val_loss: 0.4868 - val_accuracy: 0.9293\n",
      "Epoch 11/100\n",
      "6474/6474 [==============================] - 30s 5ms/step - loss: 0.0153 - accuracy: 0.9957 - val_loss: 0.5842 - val_accuracy: 0.9271\n",
      "Epoch 12/100\n",
      "6474/6474 [==============================] - 30s 5ms/step - loss: 0.0134 - accuracy: 0.9963 - val_loss: 0.5329 - val_accuracy: 0.9315\n",
      "Epoch 13/100\n",
      "6474/6474 [==============================] - 29s 4ms/step - loss: 0.0143 - accuracy: 0.9961 - val_loss: 0.6382 - val_accuracy: 0.9283\n",
      "Epoch 14/100\n",
      "6474/6474 [==============================] - 28s 4ms/step - loss: 0.0150 - accuracy: 0.9961 - val_loss: 0.4380 - val_accuracy: 0.9298\n",
      "Epoch 15/100\n",
      "6474/6474 [==============================] - 29s 4ms/step - loss: 0.0148 - accuracy: 0.9958 - val_loss: 0.5243 - val_accuracy: 0.9297\n",
      "Epoch 16/100\n",
      "6474/6474 [==============================] - 28s 4ms/step - loss: 0.0153 - accuracy: 0.9960 - val_loss: 0.5653 - val_accuracy: 0.9305\n"
     ]
    }
   ],
   "source": [
    "result = model.fit(x_train_under, y_train_under, validation_data = (x_val_under, y_val_under), callbacks = [es], epochs = 100)"
   ]
  },
  {
   "cell_type": "code",
   "execution_count": 16,
   "id": "35ea3044",
   "metadata": {
    "execution": {
     "iopub.execute_input": "2022-10-18T08:26:18.643971Z",
     "iopub.status.busy": "2022-10-18T08:26:18.643056Z",
     "iopub.status.idle": "2022-10-18T08:26:19.601618Z",
     "shell.execute_reply": "2022-10-18T08:26:19.600299Z"
    },
    "papermill": {
     "duration": 1.532957,
     "end_time": "2022-10-18T08:26:19.604059",
     "exception": false,
     "start_time": "2022-10-18T08:26:18.071102",
     "status": "completed"
    },
    "tags": []
   },
   "outputs": [
    {
     "data": {
      "image/png": "[encoded data removed]",
      "text/plain": [
       "<Figure size 1080x540 with 2 Axes>"
      ]
     },
     "metadata": {
      "needs_background": "light"
     },
     "output_type": "display_data"
    }
   ],
   "source": [
    "data1= data.sample(frac = 0.1,random_state=1)\n",
    "Normal = data1[data1['Class']==0]\n",
    "Fraud = data1[data1['Class']==1]\n",
    "\n",
    "f, (ax1, ax2) = plt.subplots(1, 2, figsize=(15,7.5), sharex=True)\n",
    "f.suptitle('Amount per transaction by class')\n",
    "bins = 10\n",
    "ax1.hist(Fraud.Amount, bins = bins)\n",
    "ax1.set_title('Fraud')\n",
    "ax2.hist(Normal.Amount, bins = bins)\n",
    "ax2.set_title('Normal')\n",
    "plt.xlabel('Amount ($)')\n",
    "plt.ylabel('Number of Transactions')\n",
    "plt.xlim((0, 20000))\n",
    "plt.yscale('log')\n",
    "plt.show();"
   ]
  },
  {
   "cell_type": "code",
   "execution_count": 17,
   "id": "f09fe8d9",
   "metadata": {
    "execution": {
     "iopub.execute_input": "2022-10-18T08:26:20.610552Z",
     "iopub.status.busy": "2022-10-18T08:26:20.609892Z",
     "iopub.status.idle": "2022-10-18T08:26:21.028654Z",
     "shell.execute_reply": "2022-10-18T08:26:21.027256Z"
    },
    "papermill": {
     "duration": 0.938653,
     "end_time": "2022-10-18T08:26:21.031633",
     "exception": false,
     "start_time": "2022-10-18T08:26:20.092980",
     "status": "completed"
    },
    "tags": []
   },
   "outputs": [
    {
     "data": {
      "image/png": "[encoded data removed]",
      "text/plain": [
       "<Figure size 1080x540 with 2 Axes>"
      ]
     },
     "metadata": {
      "needs_background": "light"
     },
     "output_type": "display_data"
    }
   ],
   "source": [
    "f, (ax1, ax2) = plt.subplots(1, 2, figsize=(15,7.5), sharex=True)\n",
    "f.suptitle('Time of transaction vs Amount by class')\n",
    "ax1.scatter(Fraud.Time, Fraud.Amount)\n",
    "ax1.set_title('Fraud')\n",
    "ax2.scatter(Normal.Time, Normal.Amount)\n",
    "ax2.set_title('Normal')\n",
    "plt.xlabel('Time (in Seconds)')\n",
    "plt.ylabel('Amount')\n",
    "plt.show();"
   ]
  },
  {
   "cell_type": "code",
   "execution_count": 18,
   "id": "daf82159",
   "metadata": {
    "execution": {
     "iopub.execute_input": "2022-10-18T08:26:22.081734Z",
     "iopub.status.busy": "2022-10-18T08:26:22.080938Z",
     "iopub.status.idle": "2022-10-18T08:26:22.101466Z",
     "shell.execute_reply": "2022-10-18T08:26:22.100640Z"
    },
    "papermill": {
     "duration": 0.57705,
     "end_time": "2022-10-18T08:26:22.103905",
     "exception": false,
     "start_time": "2022-10-18T08:26:21.526855",
     "status": "completed"
    },
    "tags": []
   },
   "outputs": [],
   "source": [
    "from sklearn.ensemble import IsolationForest\n",
    "from sklearn.neighbors import LocalOutlierFactor\n",
    "from sklearn.svm import OneClassSVM\n",
    "\n",
    "X = data1.loc[:,data1.columns!=\"Class\"]\n",
    "Y = data1.loc[:,data1.columns==\"Class\"]\n",
    "\n",
    "Fraud = data1[data1['Class']==1]\n",
    "Valid = data1[data1['Class']==0]\n",
    "outlier_fraction = len(Fraud)/float(len(Valid))\n",
    "\n",
    "classifiers = {\n",
    "    \"Isolation Forest\":IsolationForest(n_estimators=100, max_samples=len(X),contamination=outlier_fraction,verbose=0),\n",
    "    \"Local Outlier Factor\":LocalOutlierFactor(n_neighbors=20, algorithm='auto', leaf_size=30, metric='minkowski', p=2, metric_params=None, contamination=outlier_fraction),\n",
    "    \"Support Vector Machine\":OneClassSVM(kernel='rbf', degree=3, gamma=0.1,nu=0.05, max_iter=-1)  \n",
    "}"
   ]
  },
  {
   "cell_type": "code",
   "execution_count": 19,
   "id": "eae1860f",
   "metadata": {
    "execution": {
     "iopub.execute_input": "2022-10-18T08:26:23.088866Z",
     "iopub.status.busy": "2022-10-18T08:26:23.088050Z",
     "iopub.status.idle": "2022-10-18T08:31:44.218812Z",
     "shell.execute_reply": "2022-10-18T08:31:44.217590Z"
    },
    "papermill": {
     "duration": 322.186217,
     "end_time": "2022-10-18T08:31:44.778372",
     "exception": false,
     "start_time": "2022-10-18T08:26:22.592155",
     "status": "completed"
    },
    "tags": []
   },
   "outputs": [
    {
     "name": "stderr",
     "output_type": "stream",
     "text": [
      "/opt/conda/lib/python3.7/site-packages/sklearn/base.py:451: UserWarning: X does not have valid feature names, but IsolationForest was fitted with feature names\n",
      "  \"X does not have valid feature names, but\"\n"
     ]
    },
    {
     "name": "stdout",
     "output_type": "stream",
     "text": [
      "Isolation Forest: Class    73\n",
      "dtype: int64\n",
      "Accuracy Score :\n",
      "0.9974368877497279\n",
      "Classification Report :\n",
      "              precision    recall  f1-score   support\n",
      "\n",
      "           0       1.00      1.00      1.00     28432\n",
      "           1       0.26      0.27      0.26        49\n",
      "\n",
      "    accuracy                           1.00     28481\n",
      "   macro avg       0.63      0.63      0.63     28481\n",
      "weighted avg       1.00      1.00      1.00     28481\n",
      "\n",
      "Local Outlier Factor: Class    97\n",
      "dtype: int64\n",
      "Accuracy Score :\n",
      "0.9965942207085425\n",
      "Classification Report :\n",
      "              precision    recall  f1-score   support\n",
      "\n",
      "           0       1.00      1.00      1.00     28432\n",
      "           1       0.02      0.02      0.02        49\n",
      "\n",
      "    accuracy                           1.00     28481\n",
      "   macro avg       0.51      0.51      0.51     28481\n",
      "weighted avg       1.00      1.00      1.00     28481\n",
      "\n",
      "Support Vector Machine: Class    8516\n",
      "dtype: int64\n",
      "Accuracy Score :\n",
      "0.7009936448860644\n",
      "Classification Report :\n",
      "              precision    recall  f1-score   support\n",
      "\n",
      "           0       1.00      0.70      0.82     28432\n",
      "           1       0.00      0.37      0.00        49\n",
      "\n",
      "    accuracy                           0.70     28481\n",
      "   macro avg       0.50      0.53      0.41     28481\n",
      "weighted avg       1.00      0.70      0.82     28481\n",
      "\n"
     ]
    }
   ],
   "source": [
    "from sklearn.metrics import classification_report,accuracy_score\n",
    "n_outliers = len(Fraud)\n",
    "for i, (clf_name,clf) in enumerate(classifiers.items()):\n",
    "    #Fit the data and tag outliers\n",
    "    if clf_name == \"Local Outlier Factor\":\n",
    "        y_pred = clf.fit_predict(X)\n",
    "        scores_prediction = clf.negative_outlier_factor_\n",
    "    elif clf_name == \"Support Vector Machine\":\n",
    "        clf.fit(X)\n",
    "        y_pred = clf.predict(X)\n",
    "    else:    \n",
    "        clf.fit(X)\n",
    "        scores_prediction = clf.decision_function(X)\n",
    "        y_pred = clf.predict(X)\n",
    "    #Reshape the prediction values to 0 for Valid transactions , 1 for Fraud transactions\n",
    "    y_pred[y_pred == 1] = 0\n",
    "    y_pred[y_pred == -1] = 1\n",
    "    y_pred = y_pred.reshape(len(y_pred),1)\n",
    "    n_errors = (y_pred != Y).sum()\n",
    "    # Run Classification Metrics\n",
    "    print(\"{}: {}\".format(clf_name,n_errors))\n",
    "    print(\"Accuracy Score :\")\n",
    "    print(accuracy_score(Y,y_pred))\n",
    "    print(\"Classification Report :\")\n",
    "    print(classification_report(Y,y_pred))"
   ]
  }
 ],
 "metadata": {
  "kernelspec": {
   "display_name": "Python 3",
   "language": "python",
   "name": "python3"
  },
  "language_info": {
   "codemirror_mode": {
    "name": "ipython",
    "version": 3
   },
   "file_extension": ".py",
   "mimetype": "text/x-python",
   "name": "python",
   "nbconvert_exporter": "python",
   "pygments_lexer": "ipython3",
   "version": "3.7.12"
  },
  "papermill": {
   "default_parameters": {},
   "duration": 4518.648415,
   "end_time": "2022-10-18T08:31:48.562662",
   "environment_variables": {},
   "exception": null,
   "input_path": "__notebook__.ipynb",
   "output_path": "__notebook__.ipynb",
   "parameters": {},
   "start_time": "2022-10-18T07:16:29.914247",
   "version": "2.3.4"
  }
 },
 "nbformat": 4,
 "nbformat_minor": 5
}
